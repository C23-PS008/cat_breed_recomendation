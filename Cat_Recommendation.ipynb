{
  "cells": [
    {
      "cell_type": "code",
      "execution_count": 1,
      "metadata": {
        "id": "dYwCVa25NzGH"
      },
      "outputs": [],
      "source": [
        "import pandas as pd\n",
        "from sklearn.metrics.pairwise import cosine_similarity"
      ]
    },
    {
      "cell_type": "code",
      "execution_count": 2,
      "metadata": {
        "colab": {
          "base_uri": "https://localhost:8080/",
          "height": 409
        },
        "id": "LIc5WUnWN_8O",
        "outputId": "b61598fd-93aa-46e3-fc94-d22cf8dcd6c6"
      },
      "outputs": [
        {
          "data": {
            "text/html": [
              "<div>\n",
              "<style scoped>\n",
              "    .dataframe tbody tr th:only-of-type {\n",
              "        vertical-align: middle;\n",
              "    }\n",
              "\n",
              "    .dataframe tbody tr th {\n",
              "        vertical-align: top;\n",
              "    }\n",
              "\n",
              "    .dataframe thead th {\n",
              "        text-align: right;\n",
              "    }\n",
              "</style>\n",
              "<table border=\"1\" class=\"dataframe\">\n",
              "  <thead>\n",
              "    <tr style=\"text-align: right;\">\n",
              "      <th></th>\n",
              "      <th>name</th>\n",
              "      <th>length</th>\n",
              "      <th>origin</th>\n",
              "      <th>min_life_expectancy</th>\n",
              "      <th>max_life_expectancy</th>\n",
              "      <th>min_weight</th>\n",
              "      <th>max_weight</th>\n",
              "      <th>family_friendly</th>\n",
              "      <th>shedding</th>\n",
              "      <th>general_health</th>\n",
              "      <th>playfulness</th>\n",
              "      <th>children_friendly</th>\n",
              "      <th>grooming</th>\n",
              "      <th>intelligence</th>\n",
              "      <th>other_pets_friendly</th>\n",
              "    </tr>\n",
              "  </thead>\n",
              "  <tbody>\n",
              "    <tr>\n",
              "      <th>0</th>\n",
              "      <td>Abyssinian</td>\n",
              "      <td>12 to 16 inches</td>\n",
              "      <td>Southeast Asia</td>\n",
              "      <td>9.0</td>\n",
              "      <td>15.0</td>\n",
              "      <td>6.0</td>\n",
              "      <td>10.0</td>\n",
              "      <td>3</td>\n",
              "      <td>3</td>\n",
              "      <td>2</td>\n",
              "      <td>5</td>\n",
              "      <td>5</td>\n",
              "      <td>3</td>\n",
              "      <td>5</td>\n",
              "      <td>5</td>\n",
              "    </tr>\n",
              "    <tr>\n",
              "      <th>1</th>\n",
              "      <td>Aegean</td>\n",
              "      <td>Medium</td>\n",
              "      <td>Greece</td>\n",
              "      <td>9.0</td>\n",
              "      <td>10.0</td>\n",
              "      <td>7.0</td>\n",
              "      <td>10.0</td>\n",
              "      <td>5</td>\n",
              "      <td>3</td>\n",
              "      <td>4</td>\n",
              "      <td>4</td>\n",
              "      <td>5</td>\n",
              "      <td>4</td>\n",
              "      <td>4</td>\n",
              "      <td>3</td>\n",
              "    </tr>\n",
              "    <tr>\n",
              "      <th>2</th>\n",
              "      <td>American Bobtail</td>\n",
              "      <td>Medium</td>\n",
              "      <td>United States and Canada</td>\n",
              "      <td>11.0</td>\n",
              "      <td>15.0</td>\n",
              "      <td>8.0</td>\n",
              "      <td>13.0</td>\n",
              "      <td>4</td>\n",
              "      <td>4</td>\n",
              "      <td>4</td>\n",
              "      <td>4</td>\n",
              "      <td>4</td>\n",
              "      <td>3</td>\n",
              "      <td>4</td>\n",
              "      <td>4</td>\n",
              "    </tr>\n",
              "    <tr>\n",
              "      <th>3</th>\n",
              "      <td>American Shorthair</td>\n",
              "      <td>12 to 15 inches</td>\n",
              "      <td>United States</td>\n",
              "      <td>15.0</td>\n",
              "      <td>20.0</td>\n",
              "      <td>7.0</td>\n",
              "      <td>12.0</td>\n",
              "      <td>3</td>\n",
              "      <td>3</td>\n",
              "      <td>4</td>\n",
              "      <td>2</td>\n",
              "      <td>4</td>\n",
              "      <td>4</td>\n",
              "      <td>4</td>\n",
              "      <td>3</td>\n",
              "    </tr>\n",
              "    <tr>\n",
              "      <th>4</th>\n",
              "      <td>American Wirehair</td>\n",
              "      <td>Medium to large</td>\n",
              "      <td>United States</td>\n",
              "      <td>14.0</td>\n",
              "      <td>18.0</td>\n",
              "      <td>8.0</td>\n",
              "      <td>15.0</td>\n",
              "      <td>4</td>\n",
              "      <td>3</td>\n",
              "      <td>5</td>\n",
              "      <td>3</td>\n",
              "      <td>4</td>\n",
              "      <td>5</td>\n",
              "      <td>4</td>\n",
              "      <td>3</td>\n",
              "    </tr>\n",
              "  </tbody>\n",
              "</table>\n",
              "</div>"
            ],
            "text/plain": [
              "                 name           length                    origin  \\\n",
              "0          Abyssinian  12 to 16 inches            Southeast Asia   \n",
              "1              Aegean           Medium                    Greece   \n",
              "2    American Bobtail           Medium  United States and Canada   \n",
              "3  American Shorthair  12 to 15 inches             United States   \n",
              "4   American Wirehair  Medium to large             United States   \n",
              "\n",
              "   min_life_expectancy  max_life_expectancy  min_weight  max_weight  \\\n",
              "0                  9.0                 15.0         6.0        10.0   \n",
              "1                  9.0                 10.0         7.0        10.0   \n",
              "2                 11.0                 15.0         8.0        13.0   \n",
              "3                 15.0                 20.0         7.0        12.0   \n",
              "4                 14.0                 18.0         8.0        15.0   \n",
              "\n",
              "   family_friendly  shedding  general_health  playfulness  children_friendly  \\\n",
              "0                3         3               2            5                  5   \n",
              "1                5         3               4            4                  5   \n",
              "2                4         4               4            4                  4   \n",
              "3                3         3               4            2                  4   \n",
              "4                4         3               5            3                  4   \n",
              "\n",
              "   grooming  intelligence  other_pets_friendly  \n",
              "0         3             5                    5  \n",
              "1         4             4                    3  \n",
              "2         3             4                    4  \n",
              "3         4             4                    3  \n",
              "4         5             4                    3  "
            ]
          },
          "execution_count": 2,
          "metadata": {},
          "output_type": "execute_result"
        }
      ],
      "source": [
        "# Membaca dataset\n",
        "data = pd.read_csv('cat_breeds.csv')\n",
        "data.head()"
      ]
    },
    {
      "cell_type": "code",
      "execution_count": 3,
      "metadata": {
        "colab": {
          "base_uri": "https://localhost:8080/"
        },
        "id": "xzxouQ2mwMrf",
        "outputId": "b31623f6-da18-4dcc-95d6-5b5fa7bb760d"
      },
      "outputs": [
        {
          "name": "stdout",
          "output_type": "stream",
          "text": [
            "<class 'pandas.core.frame.DataFrame'>\n",
            "RangeIndex: 62 entries, 0 to 61\n",
            "Data columns (total 15 columns):\n",
            " #   Column               Non-Null Count  Dtype  \n",
            "---  ------               --------------  -----  \n",
            " 0   name                 62 non-null     object \n",
            " 1   length               62 non-null     object \n",
            " 2   origin               62 non-null     object \n",
            " 3   min_life_expectancy  62 non-null     float64\n",
            " 4   max_life_expectancy  62 non-null     float64\n",
            " 5   min_weight           62 non-null     float64\n",
            " 6   max_weight           62 non-null     float64\n",
            " 7   family_friendly      62 non-null     int64  \n",
            " 8   shedding             62 non-null     int64  \n",
            " 9   general_health       62 non-null     int64  \n",
            " 10  playfulness          62 non-null     int64  \n",
            " 11  children_friendly    62 non-null     int64  \n",
            " 12  grooming             62 non-null     int64  \n",
            " 13  intelligence         62 non-null     int64  \n",
            " 14  other_pets_friendly  62 non-null     int64  \n",
            "dtypes: float64(4), int64(8), object(3)\n",
            "memory usage: 7.4+ KB\n"
          ]
        }
      ],
      "source": [
        "data.info()"
      ]
    },
    {
      "cell_type": "code",
      "execution_count": 4,
      "metadata": {
        "id": "kU3rTtvvTrQt"
      },
      "outputs": [],
      "source": [
        "df = pd.DataFrame(data)"
      ]
    },
    {
      "cell_type": "code",
      "execution_count": 5,
      "metadata": {
        "id": "bObeTa0PPOvc"
      },
      "outputs": [],
      "source": [
        "#Normalisasi data\n",
        "#df[['family_friendly', 'shedding', 'general_health', 'playfulness', 'children_friendly', 'grooming', 'intelligence', 'other_pets_friendly']] /= 5.0"
      ]
    },
    {
      "cell_type": "code",
      "execution_count": 71,
      "metadata": {
        "colab": {
          "base_uri": "https://localhost:8080/"
        },
        "id": "0XOD_rStQKej",
        "outputId": "4a6da779-4dd2-4072-f23e-4c885de2f427"
      },
      "outputs": [],
      "source": [
        "# Menerima input rating dari pengguna\n",
        "user_rating = {}\n",
        "for feature in ['family_friendly', 'shedding', 'general_health', 'playfulness', 'children_friendly', 'grooming', 'intelligence', 'other_pets_friendly']:\n",
        "    rating = float(input(f\"Masukkan rating untuk fitur {feature}: \"))\n",
        "    user_rating[feature] = rating\n"
      ]
    },
    {
      "cell_type": "code",
      "execution_count": 72,
      "metadata": {
        "colab": {
          "base_uri": "https://localhost:8080/",
          "height": 679
        },
        "id": "aJVe48VgRJJy",
        "outputId": "dad09fb1-3963-4710-adcd-46eae77c569c"
      },
      "outputs": [],
      "source": [
        "#Menambah rating pengguna ke dataframe\n",
        "df = df.append(user_rating, ignore_index=True)  # Assign the appended dataframe back to df\n"
      ]
    },
    {
      "cell_type": "code",
      "execution_count": 73,
      "metadata": {
        "id": "EAiq1uxcRqEn"
      },
      "outputs": [],
      "source": [
        "# Menghitung similarity dengan Cosine Similarity\n",
        "similarity_matrix = cosine_similarity(df[['family_friendly', 'shedding', 'general_health', 'playfulness', 'children_friendly', 'grooming', 'intelligence', 'other_pets_friendly']])\n",
        "\n",
        "# Mendapatkan index kucing yang paling mirip dengan pengguna\n",
        "user_index = df.shape[0] - 1\n",
        "similar_kitten_index = similarity_matrix[user_index].argsort()[:-1][::-1]"
      ]
    },
    {
      "cell_type": "code",
      "execution_count": 74,
      "metadata": {
        "id": "j0HgBgoSTBBQ"
      },
      "outputs": [],
      "source": [
        "# Mendapatkan similarity score\n",
        "similarities = similarity_matrix[user_index][similar_kitten_index]\n"
      ]
    },
    {
      "cell_type": "code",
      "execution_count": 75,
      "metadata": {
        "id": "n2MLpzVRvTzm"
      },
      "outputs": [],
      "source": [
        "top_10_recommendations = df.loc[similar_kitten_index[:10], 'name']"
      ]
    },
    {
      "cell_type": "code",
      "execution_count": 76,
      "metadata": {
        "colab": {
          "base_uri": "https://localhost:8080/"
        },
        "id": "vWAgaVf_vg1o",
        "outputId": "2db54086-187e-4cb1-e303-3ca3204fd475"
      },
      "outputs": [
        {
          "name": "stdout",
          "output_type": "stream",
          "text": [
            "Rekomendasi Kucing:\n",
            "European Shorthair - Similarity: 0.9519833036228567\n",
            "Oriental Bicolor - Similarity: 0.9449111825230682\n",
            "Arabian Mau - Similarity: 0.9441634993361119\n",
            "California Spangled - Similarity: 0.9441634993361119\n",
            "Khao Manee - Similarity: 0.9406341620035448\n",
            "Snowshoe - Similarity: 0.9402561526802479\n",
            "Maine Coon - Similarity: 0.9401747557920132\n",
            "Cyprus - Similarity: 0.9368640700305919\n",
            "Sokoke - Similarity: 0.9360504666899517\n",
            "Brazilian Shorthair - Similarity: 0.9360504666899517\n"
          ]
        }
      ],
      "source": [
        "print(\"Rekomendasi Kucing:\")\n",
        "for i, kitten_name in enumerate(top_10_recommendations):\n",
        "    similarity_score = similarities[i]\n",
        "    print(f\"{kitten_name} - Similarity: {similarity_score}\")"
      ]
    },
    {
      "cell_type": "code",
      "execution_count": 77,
      "metadata": {},
      "outputs": [],
      "source": [
        "import pickle\n",
        "\n",
        "# Assuming you have the similarity matrix calculated and assigned to the variable 'similarity_matrix'\n",
        "# Save the similarity matrix to a file\n",
        "filename = 'similarity_matrix.pkl'\n",
        "with open(filename, 'wb') as file:\n",
        "    pickle.dump(similarity_matrix, file)\n"
      ]
    },
    {
      "cell_type": "code",
      "execution_count": null,
      "metadata": {},
      "outputs": [],
      "source": []
    }
  ],
  "metadata": {
    "colab": {
      "provenance": []
    },
    "kernelspec": {
      "display_name": "Python 3",
      "name": "python3"
    },
    "language_info": {
      "codemirror_mode": {
        "name": "ipython",
        "version": 3
      },
      "file_extension": ".py",
      "mimetype": "text/x-python",
      "name": "python",
      "nbconvert_exporter": "python",
      "pygments_lexer": "ipython3",
      "version": "3.7.0"
    }
  },
  "nbformat": 4,
  "nbformat_minor": 0
}
